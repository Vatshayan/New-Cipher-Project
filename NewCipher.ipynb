{
  "nbformat": 4,
  "nbformat_minor": 0,
  "metadata": {
    "colab": {
      "name": "NewCipher.ipynb",
      "provenance": [],
      "collapsed_sections": [],
      "include_colab_link": true
    },
    "kernelspec": {
      "name": "python3",
      "display_name": "Python 3"
    }
  },
  "cells": [
    {
      "cell_type": "markdown",
      "metadata": {
        "id": "view-in-github",
        "colab_type": "text"
      },
      "source": [
        "<a href=\"https://colab.research.google.com/github/Vatshayan/New-Cipher-Project/blob/main/NewCipher.ipynb\" target=\"_parent\"><img src=\"https://colab.research.google.com/assets/colab-badge.svg\" alt=\"Open In Colab\"/></a>"
      ]
    },
    {
      "cell_type": "markdown",
      "metadata": {
        "id": "2lVIPIxbSuEk"
      },
      "source": [
        "# **Ambani Cipher**"
      ]
    },
    {
      "cell_type": "markdown",
      "metadata": {
        "id": "TE6DLENASuRY"
      },
      "source": [
        "# User input and Preprocessing"
      ]
    },
    {
      "cell_type": "code",
      "metadata": {
        "id": "qSaD0_tKS67I",
        "colab": {
          "base_uri": "https://localhost:8080/"
        },
        "outputId": "928f5ca6-cf2c-4f72-e8bd-01e5d2b04ac7"
      },
      "source": [
        "import math\n",
        "key=input(\"Enter keyword text (Contains unique letters only): \").lower().replace(\" \", \"\")\n",
        "plain_text = input(\"Enter plain text (Letters only): \").lower().replace(\" \", \"\")\n",
        "\n",
        "len_key = len(key)\n",
        "len_plain = len(plain_text)\n",
        "row = int(math.ceil(len_plain / len_key))\n",
        "matrix = [ ['X']*len_key for i in range(row) ]\n",
        "\n",
        "# print(matrix)"
      ],
      "execution_count": null,
      "outputs": [
        {
          "output_type": "stream",
          "text": [
            "Enter keyword text (Contains unique letters only): Shivam\n",
            "Enter plain text (Letters only): ilovemyindia\n"
          ],
          "name": "stdout"
        }
      ]
    },
    {
      "cell_type": "markdown",
      "metadata": {
        "id": "6dsFV2SVUE8E"
      },
      "source": [
        "# Encryption"
      ]
    },
    {
      "cell_type": "code",
      "metadata": {
        "id": "TVH66qfDUH4s",
        "colab": {
          "base_uri": "https://localhost:8080/"
        },
        "outputId": "6d5b5370-e250-4fc5-f915-9238cb58ca8d"
      },
      "source": [
        "t = 0\n",
        "for r in range(row):\n",
        "  for c,ch in enumerate(plain_text[t : t+ len_key]):\n",
        "    matrix[r][c] = ch\n",
        "  t += len_key\n",
        "\n",
        "# print(matrix)\n",
        "sort_order = sorted([(ch,i) for i,ch in enumerate(key)])  #to make alphabetically order of chars\n",
        "# print(sort_order)\n",
        "\n",
        "cipher_text = ''\n",
        "for ch,c in sort_order:\n",
        "  for r in range(row):\n",
        "    cipher_text += matrix[r][c]\n",
        "  \n",
        "print(\"Encryption\")\n",
        "print(\"Plain text is :\",plain_text)\n",
        "print(\"Cipher text is:\",cipher_text)"
      ],
      "execution_count": null,
      "outputs": [
        {
          "output_type": "stream",
          "text": [
            "Encryption\n",
            "Plain text is : ilovemyindia\n",
            "Cipher text is: eilionmaiyvd\n"
          ],
          "name": "stdout"
        }
      ]
    },
    {
      "cell_type": "markdown",
      "metadata": {
        "id": "MjMN7V90e8Nq"
      },
      "source": [
        "# Decryption\n",
        "When we know KEYWORD and CIPHER TEXT, decrypting cipher_text into original plain_text"
      ]
    },
    {
      "cell_type": "code",
      "metadata": {
        "id": "McDKverUe-iJ",
        "colab": {
          "base_uri": "https://localhost:8080/"
        },
        "outputId": "a61c1d45-299a-41ce-bbb9-248928722fb6"
      },
      "source": [
        "\n",
        "\n",
        "matrix_new = [ ['X']*len_key for i in range(row) ]\n",
        "key_order = [ key.index(ch) for ch in sorted(list(key))]  #to make original key order when we know keyword\n",
        "# print(key_order)\n",
        "\n",
        "t = 0\n",
        "for c in key_order:\n",
        "  for r,ch in enumerate(cipher_text[t : t+ row]):\n",
        "    matrix_new[r][c] = ch\n",
        "  t += row\n",
        "# print(matrix_new) \n",
        "\n",
        "p_text = ''\n",
        "for r in range(row):\n",
        "  for c in range(len_key):\n",
        "    p_text += matrix_new[r][c] if matrix_new[r][c] != 'X' else ''\n",
        "\n",
        "print(\"Decryption\")\n",
        "print(\"Cipher text is:\",cipher_text)\n",
        "print(\"Plain text is :\",p_text)"
      ],
      "execution_count": null,
      "outputs": [
        {
          "output_type": "stream",
          "text": [
            "Decryption\n",
            "Cipher text is: eilionmaiyvd\n",
            "Plain text is : ilovemyindia\n"
          ],
          "name": "stdout"
        }
      ]
    },
    {
      "cell_type": "code",
      "metadata": {
        "id": "ZHVGkw2Z5gnf"
      },
      "source": [
        ""
      ],
      "execution_count": null,
      "outputs": []
    }
  ]
}